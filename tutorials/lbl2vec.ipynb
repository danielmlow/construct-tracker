{
    "cells": [
        {
            "cell_type": "markdown",
            "metadata": {},
            "source": [
                "## 3. lbl2vec\n",
                "\n",
                "Is a similar package, that takes the average of the lexicon and computes the similarity with the entire document (less precise than CTS, but faster) \n",
                "\n",
                "https://github.com/sebischair/**Lbl2Vec**\n"
            ]
        },
        {
            "cell_type": "code",
            "execution_count": null,
            "metadata": {},
            "outputs": [],
            "source": [
                "\n",
                "# TODO: add version\n",
                "!pip install lbl2vec"
            ]
        },
        {
            "cell_type": "code",
            "execution_count": null,
            "metadata": {},
            "outputs": [
                {
                    "name": "stderr",
                    "output_type": "stream",
                    "text": [
                        "2024-07-29 20:54:03,952 - Lbl2TransformerVec - INFO - Compute keyword embeddings\n",
                        "2024-07-29 20:54:03,952 - Lbl2TransformerVec - INFO - Compute keyword embeddings\n",
                        "2024-07-29 20:54:03,952 - Lbl2TransformerVec - INFO - Compute keyword embeddings\n",
                        "2024-07-29 20:54:03,952 - Lbl2TransformerVec - INFO - Compute keyword embeddings\n",
                        "2024-07-29 20:54:03,952 - Lbl2TransformerVec - INFO - Compute keyword embeddings\n",
                        "2024-07-29 20:54:03,952 - Lbl2TransformerVec - INFO - Compute keyword embeddings\n",
                        "2024-07-29 20:54:03,952 - Lbl2TransformerVec - INFO - Compute keyword embeddings\n",
                        "2024-07-29 20:54:03,952 - Lbl2TransformerVec - INFO - Compute keyword embeddings\n",
                        "INFO:Lbl2TransformerVec:Compute keyword embeddings\n",
                        "2024-07-29 20:54:04,137 - Lbl2TransformerVec - INFO - Compute document embeddings\n",
                        "2024-07-29 20:54:04,137 - Lbl2TransformerVec - INFO - Compute document embeddings\n",
                        "2024-07-29 20:54:04,137 - Lbl2TransformerVec - INFO - Compute document embeddings\n",
                        "2024-07-29 20:54:04,137 - Lbl2TransformerVec - INFO - Compute document embeddings\n",
                        "2024-07-29 20:54:04,137 - Lbl2TransformerVec - INFO - Compute document embeddings\n",
                        "2024-07-29 20:54:04,137 - Lbl2TransformerVec - INFO - Compute document embeddings\n",
                        "2024-07-29 20:54:04,137 - Lbl2TransformerVec - INFO - Compute document embeddings\n",
                        "2024-07-29 20:54:04,137 - Lbl2TransformerVec - INFO - Compute document embeddings\n",
                        "INFO:Lbl2TransformerVec:Compute document embeddings\n",
                        "/usr/lib/python3.10/subprocess.py:1796: RuntimeWarning: os.fork() was called. os.fork() is incompatible with multithreaded code, and JAX is multithreaded, so this will likely lead to a deadlock.\n",
                        "  self.pid = _posixsubprocess.fork_exec(\n",
                        "2024-07-29 20:54:30,750 - Lbl2TransformerVec - INFO - Train label embeddings\n",
                        "2024-07-29 20:54:30,750 - Lbl2TransformerVec - INFO - Train label embeddings\n",
                        "2024-07-29 20:54:30,750 - Lbl2TransformerVec - INFO - Train label embeddings\n",
                        "2024-07-29 20:54:30,750 - Lbl2TransformerVec - INFO - Train label embeddings\n",
                        "2024-07-29 20:54:30,750 - Lbl2TransformerVec - INFO - Train label embeddings\n",
                        "2024-07-29 20:54:30,750 - Lbl2TransformerVec - INFO - Train label embeddings\n",
                        "2024-07-29 20:54:30,750 - Lbl2TransformerVec - INFO - Train label embeddings\n",
                        "2024-07-29 20:54:30,750 - Lbl2TransformerVec - INFO - Train label embeddings\n",
                        "INFO:Lbl2TransformerVec:Train label embeddings\n"
                    ]
                }
            ],
            "source": [
                "from lbl2vec import Lbl2TransformerVec\n",
                "from sentence_transformers import SentenceTransformer\n",
                "\n",
                "# select sentence-tranformers model\n",
                "transformer_model = SentenceTransformer('all-MiniLM-L6-v2') #\"all-mpnet-base-v2\"\n",
                "\n",
                "# init model\n",
                "model = Lbl2TransformerVec(transformer_model=transformer_model,\n",
                "                           keywords_list=list(lexicon_dict.values()), # iterable list of lists with descriptive keywords of type str\n",
                "                           documents=documents, #iterable list of strings\n",
                "                           label_names = list(lexicon_dict.keys())\n",
                "                           )\n",
                "\n",
                "# train model\n",
                "model.fit()\n",
                "\n",
                "similarity_df = model.predict_model_docs() # Predict label similarities for documents used for training\n",
                "# similarity_df = model.predict_model_docs(doc_idxs = [0,1]) # Predict label similarities for documents used for training\n",
                "\n",
                "similarity_df\n",
                "\n",
                "\n",
                "model.save('model_name')\n",
                "model = Lbl2Vec.load('model_name')\n",
                "\n",
                "\n",
                "\n"
            ]
        }
    ],
    "metadata": {
        "language_info": {
            "name": "python"
        }
    },
    "nbformat": 4,
    "nbformat_minor": 2
}
