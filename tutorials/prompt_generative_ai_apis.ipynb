{
    "cells": [
        {
            "cell_type": "code",
            "execution_count": 14,
            "id": "44b0dcb4-3ed5-4a3b-a9e8-3f15174e1e3b",
            "metadata": {},
            "outputs": [],
            "source": [
                "import litellm"
            ]
        },
        {
            "cell_type": "code",
            "execution_count": 15,
            "id": "b29a1e22-0d44-4cb2-838b-7fe782dafdd6",
            "metadata": {},
            "outputs": [],
            "source": [
                "# !pip install litellm==1.26.0\n",
                "import sys\n",
                "\n",
                "sys.path.append('./../../concept_tracker')\n",
                "from concept_tracker import api_keys # local, private script with api keys as strings assigned to variables like open_ai or cohere_trial, # for OpenAI you need your own key and to put at least $5 in the account\n",
                "import os\n",
                "\n",
                "\n",
                "\n",
                "# [OPTIONAL] set env var\n",
                "os.environ[\"OPENAI_API_KEY\"] = api_keys.open_ai # string, you need your own key and to put at least $5 in the account\n",
                "os.environ[\"COHERE_API_KEY\"] = api_keys.cohere_trial # string, you can get for free by logging into cohere and going to sandbox\n",
                "\n",
                "gpt4_turbo = \"gpt-4-1106-preview\"\n",
                "cohere = 'command-nightly'\n",
                "litellm.drop_params=True # will ignore paramaters you set if they don't belong in a model"
            ]
        },
        {
            "cell_type": "code",
            "execution_count": 16,
            "id": "d3a968eb-f041-4e47-8ee5-5115a79fd535",
            "metadata": {},
            "outputs": [],
            "source": [
                "\n",
                "\n",
                "from litellm import completion\n",
                "\n",
                "\n",
                "def api_request(\n",
                "    prompt,\n",
                "    model=\"commmand-nightly\",\n",
                "    api_key=None,\n",
                "    temperature=0.1,\n",
                "    top_p=1,\n",
                "    timeout=45,\n",
                "    num_retries=2,\n",
                "    max_tokens=None,\n",
                "    seed=None,\n",
                "    response_format=None,\n",
                "):\n",
                "    # Open AI status: https://status.openai.com/\n",
                "\n",
                "    messages = [{\"content\": prompt, \"role\": \"user\"}]\n",
                "    responses = completion(\n",
                "        model=model,\n",
                "        messages=messages,\n",
                "        api_key=api_key,\n",
                "        temperature=temperature,\n",
                "        top_p=top_p,\n",
                "        timeout=timeout,\n",
                "        num_retries=num_retries,\n",
                "        max_tokens=max_tokens,\n",
                "        seed=seed,\n",
                "        # response_format = response_format\n",
                "    )\n",
                "    response = responses.get(\"choices\")[0].get(\"message\").get(\"content\")  # access response for first message\n",
                "    return response\n",
                "\n"
            ]
        },
        {
            "cell_type": "code",
            "execution_count": 26,
            "id": "ce910f25-749b-4076-866d-def32f105ece",
            "metadata": {},
            "outputs": [],
            "source": [
                "prompt = \"\"\"\n",
                "Classify the document into one of the following symptoms:\n",
                "Symptoms to choose from: {symptoms}\n",
                "\n",
                "Output only the most likely symptom with the phrase that indicates the symptom. \n",
                "\n",
                "For example, \n",
                "Document: {example_1}\n",
                "Symptom: {symptom_1}\n",
                "Explanation: {example_1}\n",
                "\n",
                "Document: {example_2}\n",
                "Symptom: {symptom_2}\n",
                "Explanation: {example_2}\n",
                "\n",
                "Document: {document}\n",
                "Symptom:\n",
                "\"\"\""
            ]
        },
        {
            "cell_type": "code",
            "execution_count": 27,
            "id": "cf427c17-c918-44c1-a0a1-8ac44a05a3fa",
            "metadata": {},
            "outputs": [
                {
                    "name": "stdout",
                    "output_type": "stream",
                    "text": [
                        "\n",
                        "Classify the document into one of the following symptoms:\n",
                        "Symptoms to choose from: sustained attention; hyperactivity; disruptive behavior; impulse control; reward anticipation; agression\n",
                        "\n",
                        "Output only the most likely symptom with the phrase that indicates the symptom. \n",
                        "\n",
                        "For example, \n",
                        "Document: I can't sit still\n",
                        "Symptom: hyperactivity\n",
                        "Explanation: I can't sit still\n",
                        "\n",
                        "Document: I am always looking around\n",
                        "Symptom: sustained attention\n",
                        "Explanation: I am always looking around\n",
                        "\n",
                        "Document: In the past two weeks, I interrupted someone while talking\n",
                        "Symptom:\n",
                        "\n",
                        "\n",
                        "\n",
                        "Symptom: impulse control\n",
                        "Explanation: I interrupted someone while talking\n"
                    ]
                }
            ],
            "source": [
                "symptoms = ['sustained attention', 'hyperactivity', 'disruptive behavior', 'impulse control', 'reward anticipation', 'agression']\n",
                "symptoms_str = '; '.join(symptoms)\n",
                "examples = [\"I can't sit still\", \"I am always looking around\"]\n",
                "symptoms_examples = ['hyperactivity', 'sustained attention']\n",
                "documents = [\"In the past two weeks, I interrupted someone while talking\"]\n",
                "responses = {}\n",
                "for i, document in enumerate(documents):\n",
                "    prompt_i = prompt.format(symptoms = symptoms_str, example_1 = examples[0], example_2 = examples[1], symptom_1 = symptoms_examples[0], symptom_2 = symptoms_examples[1], document = document)\n",
                "    print(prompt_i)\n",
                "    response = api_request(prompt_i, model=gpt4_turbo)\n",
                "    print(response)\n",
                "    responses[i] = response\n",
                "\n",
                "\n",
                "\n"
            ]
        },
        {
            "cell_type": "code",
            "execution_count": 29,
            "id": "0f88391d-d118-4310-916d-165c35ef4917",
            "metadata": {},
            "outputs": [
                {
                    "data": {
                        "text/plain": [
                            "['Symptom: impulse control',\n",
                            " 'Explanation: I interrupted someone while talking']"
                        ]
                    },
                    "execution_count": 29,
                    "metadata": {},
                    "output_type": "execute_result"
                }
            ],
            "source": [
                "response.split('\\n')"
            ]
        },
        {
            "cell_type": "code",
            "execution_count": null,
            "id": "f4777f0e-9cd1-4913-9577-ed316416f842",
            "metadata": {},
            "outputs": [],
            "source": [
                "def generate_prompt(\n",
                "    construct,\n",
                "    prompt_name=None,\n",
                "    prompt=\"default\",\n",
                "    domain=None,\n",
                "    definition=None,\n",
                "    examples=None,\n",
                "    output_format=\"default\",\n",
                "    remove_parentheses_definition=True,\n",
                "):\n",
                "    if output_format == \"default\":\n",
                "        output_format = (\n",
                "            \"Each token should be separated by a semicolon. Do not return duplicate tokens. Do not provide any\"\n",
                "            \" explanation or additional text beyond the tokens.\"\n",
                "        )\n",
                "    # removed: Order them by how similar they are to {construct}.\n",
                "    elif output_format == \"json\":\n",
                "        output_format = (\n",
                "            \"Provide tokens in JSON output. Do not return duplicate tokens. Do not provide any explanation or\"\n",
                "            \" additional text beyond the tokens.\"\n",
                "        )\n",
                "\n",
                "    # Prompt\n",
                "    if not isinstance(prompt_name, str):\n",
                "        # if prompt_name == None:\n",
                "        prompt_name = construct.replace(\"_\", \" \").lower()\n",
                "\n",
                "    if prompt == \"default\":\n",
                "        prompt = \"Provide many single words and some short phrases related to\"\n",
                "        if domain:\n",
                "            domain = f\"(in the {domain} domain). \"\n",
                "            prompt = f\"\"\"{prompt} {prompt_name} {domain}{output_format}\"\"\"\n",
                "        else:\n",
                "            prompt = f\"\"\"{prompt} {prompt_name}. {output_format}\"\"\"\n",
                "        if definition:\n",
                "            if remove_parentheses_definition:\n",
                "                definition = re.sub(r\"\\(.*?\\)\", \"\", definition)  # remove parentheses which is usually citation.\n",
                "            prompt += f\"\\nHere is a definition of {prompt_name}: {definition.lower().strip()}\"\n",
                "\n",
                "        if isinstance(examples, list):\n",
                "            examples = \"; \".join(examples)\n",
                "        if isinstance(examples, str):\n",
                "            # examples = '; '.join(examples)\n",
                "            prompt += f\"\\nHere are some examples (include these in the list): {examples}.\"\n",
                "\n",
                "    return prompt\n",
                "\n"
            ]
        },
        {
            "cell_type": "code",
            "execution_count": null,
            "id": "e0755851-29a2-4211-b519-9a70db26fc41",
            "metadata": {},
            "outputs": [],
            "source": [
                "\n"
            ]
        },
        {
            "cell_type": "code",
            "execution_count": null,
            "id": "0993f0ed-ad10-45d8-98d4-728d547b1f1e",
            "metadata": {},
            "outputs": [],
            "source": []
        }
    ],
    "metadata": {
        "kernelspec": {
            "display_name": "Python 3 (ipykernel)",
            "language": "python",
            "name": "python3"
        },
        "language_info": {
            "codemirror_mode": {
                "name": "ipython",
                "version": 3
            },
            "file_extension": ".py",
            "mimetype": "text/x-python",
            "name": "python",
            "nbconvert_exporter": "python",
            "pygments_lexer": "ipython3",
            "version": "3.11.5"
        }
    },
    "nbformat": 4,
    "nbformat_minor": 5
}
